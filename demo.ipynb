{
 "cells": [
  {
   "cell_type": "markdown",
   "metadata": {},
   "source": [
    "## Tasks and Labels\n",
    "\n",
    "First, we distinguish between a `Task` object and a `Label` object.\n",
    "\n",
    "A `Label` object represents only the _label_ data for a training example, decoupled from the input image entirely. This could be a list of points as in `PersonPoseLabel`, or a numpy array as in `SegmentationLabel`, or a list of bounding boxes as in `ObjectLabel`.\n",
    "\n",
    "A `Task` is a coupling of a _label_ with an input _data_: it is essentially a pair, consisting of the input to the model and the ground truth. For instance, a `SegmentationTask` has two attributes: the `data` (a `np.array` representing an image) and the `label` (a `SegmentationLabel`).\n",
    "\n",
    "A `MultiTask` is a coupling of an input _data_ with _multiple labels_. This way, we only need to store _one copy_ of the input data for _multiple different task types_. A `MultiTask` instance consists of two attributes: the `data` (a `np.array` representing an image), and a `labels` list, containing multiple different `Label` objects for multiple different tasks.\n",
    "\n",
    "Every `Task` object comes with a `show()`, which displays the input data (image) along with its label(s).\n",
    "\n",
    "Every `Label` object comes with a `collate()` classmethod, which determines how to collate multiple different labels into a single batched object."
   ]
  },
  {
   "cell_type": "markdown",
   "metadata": {},
   "source": [
    "## Transforms\n",
    "The basic callable object, designed to handle multitask data, is a subclass of `AbstractMultiTaskTransform`. These objects, sometimes referred to as \"transforms\", are meant to be \"smart functions\" which can figure out what type of input they receive, and how to transform that input based on its type.\n",
    "\n",
    "The general workflow is as follows:\n",
    "1. Implement the `get_shared_parameters` abstract method.\n",
    "2. Implement various `__call__` functions for the input _data_ type (in our case, an image, represented by an `nd.array`), and the input _label_ types (`SegmentationLabel`, `ObjectLabel`, etc.).\n",
    "\n",
    "With these two simple steps you can then:\n",
    "* Use your transform on `MultiTask` data,\n",
    "* use your transform on single `Task` data,\n",
    "* use your transform on lone `Label` data,\n",
    "* or use your transform on any other type of input data, assuming an implementation for that data type has been provided.\n",
    "\n",
    "Under the hood, the `AbstractMultiTaskTransform` will automatically figure out what to do."
   ]
  },
  {
   "cell_type": "code",
   "execution_count": null,
   "metadata": {},
   "outputs": [],
   "source": [
    "class HorizontalFlip(AbstractMultiTaskTransform):\n",
    "    def __init__(self, p = 0.5):\n",
    "        super().__init__() \n",
    "        self.p = p # Probability of performing a flip\n",
    "\n",
    "    def get_shared_parameters(self, inputs):\n",
    "        return {\"do_flip\" : random.random() <= self.p}\n",
    "\n",
    "    @dispatch_by_type(np.array)\n",
    "    def __call__(self, image, params):\n",
    "        if not params[\"do_flip\"]:\n",
    "            return image\n",
    "        return numpy.flip(image, axis = 1)\n",
    "\n",
    "    @dispatch_by_type(SegmentationLabel)\n",
    "    def __call__(self, label, params):\n",
    "        ...\n",
    "\n",
    "    @dispatch_by_type(ObjectDetectionLabel)\n",
    "    def __call__(self, label, params):\n",
    "        ..."
   ]
  },
  {
   "cell_type": "markdown",
   "metadata": {},
   "source": [
    "Above, we've implemented a `HorizontalFlip` transform which, with probability 0.5, will horizontally flip its inputs. We wrote an implementation for the _data_ type (`np.array`), and _two label_ types (`SegmentationLabel` and `ObjectDetectionLabel`). The decorators `@dispatch_by_type` are how `AbstractMultiTaskTransform` is able to figure out which function to call on the fly.\n",
    "\n",
    "Now, we can use our transform as follows."
   ]
  },
  {
   "cell_type": "code",
   "execution_count": null,
   "metadata": {},
   "outputs": [],
   "source": [
    "transform = HorizontalFlip()\n",
    "\n",
    "task = MultiTask(image, [segmentation_label, object_label])\n",
    "\n",
    "results = transform(task) \n",
    "# Even though we haven't specified a __call__ method for the `MultiTask` input type, the transform is able to figure out\n",
    "# that it needs to apply itself to the task *data* (the image) and the task *labels* (the segmentation_label and object_label)\n",
    "\n",
    "assert isinstance(results, MultiTask)\n",
    "results.show() # The image, segmentation label, and object label will be present, and all will either be flipped or not (simultaneously)."
   ]
  },
  {
   "cell_type": "markdown",
   "metadata": {},
   "source": [
    "The `AbstractMultiTaskTransform` object is extremely versatile - it can operate on `MultiTask` objects, `Task` objects, `Label` objects, or any other object (provided an implementation for the input type exists), and under the hood it will automatically figure out what it has to do."
   ]
  },
  {
   "cell_type": "code",
   "execution_count": null,
   "metadata": {},
   "outputs": [],
   "source": [
    "# Transforms can operate on individual tasks:\n",
    "single_task = SegmentationTask(image, segmentation_label)\n",
    "results = transform(single_task)\n",
    "assert isinstance(results, SegmentationTask)\n",
    "results.show()\n",
    "\n",
    "# Transforms can operate on individual labels:\n",
    "results = transform(segmentation_label)\n",
    "assert isinstance(results, SegmentationLabel)\n",
    "\n",
    "# It can even operate on an image (represented as an np.array):\n",
    "results = transform(image)\n",
    "assert isinstance(results, np.array)\n",
    "\n",
    "# We don't have to make _any modifications_ to `transform` for this to be possible. This functionality exists from the start!"
   ]
  },
  {
   "cell_type": "markdown",
   "metadata": {},
   "source": [
    "In this example transform, we explicitly _left out_ an implementation of the transform for `PersonPoseLabel` objects. What happens when we attempt to call it?"
   ]
  },
  {
   "cell_type": "code",
   "execution_count": null,
   "metadata": {},
   "outputs": [],
   "source": [
    "task = MultiTask(image, [segmentation_label, object_label, pose_label]) # Now we have a label the transform can't operate on\n",
    "results = transform(task)\n",
    "\n",
    "# results is now a tuple, where the first item is the _transformed_ multitask, and the second item is the _untransformed_ multitask:\n",
    "transformed, untransformed = results\n",
    "\n",
    "transformed.show() # Displays the segmentation label and object label\n",
    "untransformed.show() # Displays only the pose label"
   ]
  },
  {
   "cell_type": "markdown",
   "metadata": {},
   "source": [
    "The `AbstractMultiTaskTransform` was able to figure out that it _couldn't operate_ on all of the input label types - it could only operate on some of them. As a result, it splits the output into the transformed labels and the untransformed labels.\n",
    "\n",
    "We remark that this behaviour is _only available_ when the input is a `MultiTask` object. If we attempt to call `transform` on a single `PoseTask` or `PoseLabel` object, we'll get an error:"
   ]
  },
  {
   "cell_type": "code",
   "execution_count": null,
   "metadata": {},
   "outputs": [],
   "source": [
    "try:\n",
    "    single_task = PoseTask(image, pose_label)\n",
    "    transform(single_task)\n",
    "except DynamicDispatchError:\n",
    "    print(\"No implementation for pose labels available\")\n",
    "\n",
    "\n",
    "try:\n",
    "    transform(pose_label)\n",
    "except DynamicDispatchError:\n",
    "    print(\"No implementation for pose labels available\")"
   ]
  },
  {
   "cell_type": "markdown",
   "metadata": {},
   "source": [
    "We can further control the behaviour of an `AbstractMultiTaskTransform` by changing it's `MultiTaskReturnPolicy`. By default, a transform will either return:\n",
    "- One item, the transformed labels (if everything could be transformed).\n",
    "- Two items, the transformed labels and untransformed labels (if some things couldn't be transformed).\n",
    "- One item, the _original_ untransformed labels (if none of the labels could be transformed).\n",
    "\n",
    "If we _only want_ to return the _transformed_ labels as output, and raise an error if no labels could be transformed, we can do the following:"
   ]
  },
  {
   "cell_type": "code",
   "execution_count": null,
   "metadata": {},
   "outputs": [],
   "source": [
    "transform.multitask_return_policy = MultiTaskReturnPolicy.OnlyTransformedStrict\n",
    "\n",
    "# Now let's try operating on a multitask\n",
    "task = MultiTask(image, [segmentation_label, object_label, pose_label])\n",
    "results = transform(task)\n",
    "\n",
    "# Now, `results` is a single item: the transformed labels\n",
    "assert isinstance(results, MultiTask)\n",
    "results.show() # only the segmentation label and object label\n",
    "\n",
    "try:\n",
    "    task = MultiTask(image, [pose_label1, pose_label2]) # A task with only pose data\n",
    "    transform(task)\n",
    "except HeterogeneousDataError:\n",
    "    print(\"Received a task with no transformable labels.\")"
   ]
  },
  {
   "cell_type": "markdown",
   "metadata": {},
   "source": [
    "There are many different `MultiTaskReturnPolicy`'s you can use to control the behaviour of the transform. See the documentation for more details on what each policy does."
   ]
  },
  {
   "cell_type": "markdown",
   "metadata": {},
   "source": [
    "## The Problem with `.map`\n",
    "Consider the following example:"
   ]
  },
  {
   "cell_type": "code",
   "execution_count": null,
   "metadata": {},
   "outputs": [],
   "source": [
    "datapipe = datapipe.map(MyTransform())\n",
    "\n",
    "for item in datapipe:\n",
    "    # Uh oh, `item` can be lots of things now, depending on whether or not `MyTransform` could operate on it.\n",
    "    \n",
    "    # `item` could be a single `MultiTask` object, it could be two `MultiTask` objects, or it could be None.\n",
    "    ..."
   ]
  },
  {
   "cell_type": "markdown",
   "metadata": {},
   "source": [
    "This is a problem because now we can't easily chain transforms together."
   ]
  },
  {
   "cell_type": "code",
   "execution_count": null,
   "metadata": {},
   "outputs": [],
   "source": [
    "datapipe = datapipe.map(Transform1()).map(Transform2())\n",
    "# This won't work - the results of the first transform might be a tuple, or None, and Transform2 can't operate on that."
   ]
  },
  {
   "cell_type": "markdown",
   "metadata": {},
   "source": [
    "The solution? Instead of using `.map`, use `.transform`:"
   ]
  },
  {
   "cell_type": "code",
   "execution_count": null,
   "metadata": {},
   "outputs": [],
   "source": [
    "datapipe = datapipe.transform(MyTransform())\n",
    "\n",
    "for item in datapipe:\n",
    "    # Now, `item` is guaranteed to be a single `MultiTask` object.\n",
    "    ...\n",
    "\n",
    "# Now this works as well:\n",
    "datapipe = datapipe.transform(Transform1()).transform(Transform2())\n",
    "\n",
    "# After each application of `transform`, the datapipe is _guaranteed_ to yield individual `MultiTask` instances one-by-one."
   ]
  },
  {
   "cell_type": "code",
   "execution_count": null,
   "metadata": {},
   "outputs": [],
   "source": [
    "datapipe = [MultiTask(image, [segmentation_label, pose_label, object_label])]\n",
    "\n",
    "datapipe = datapipe.transform(MyTransfom()) # Assume MyTransform only works on segmentation labels\n",
    "\n",
    "for i, item in datapipe.enumerate():\n",
    "    print(item.labels)\n",
    "\n",
    "# Output:\n",
    "#   0, [segmentation_label]\n",
    "#   1, [pose_label, object_label]"
   ]
  },
  {
   "cell_type": "markdown",
   "metadata": {},
   "source": [
    "The `.transform` datapipe is essentially a \"smart\" version of `.map`. It can:\n",
    "1. Automatically flatten the output of the transform.\n",
    "2. Skip over None values returned from the transform.\n",
    "3. Modify the MultiTaskReturnPolicy of the transform."
   ]
  },
  {
   "cell_type": "code",
   "execution_count": null,
   "metadata": {},
   "outputs": [],
   "source": [
    "datapipe = datapipe.transform(MyTransform(), skip_none = True, flatten = True, multitask_return_policy = ...)\n",
    "# `skip_none` and `flatten` are True by default, `multitask_return_policy` is None by default, meaning we use the transform's return policy instead"
   ]
  },
  {
   "cell_type": "markdown",
   "metadata": {},
   "source": [
    "## Notes on Implementing Transforms\n",
    "\n",
    "**Q:** What if I have a transform that _only_ operates on the data, and not the labels? Do I have to write a bunch of empty `__call__` methods for each label type?\n",
    "\n",
    "**A:** You can accomplish this by setting the `data_only` flag to `True` in the transform body:"
   ]
  },
  {
   "cell_type": "code",
   "execution_count": null,
   "metadata": {},
   "outputs": [],
   "source": [
    "class RandomColorJitter(AbstractMultiTaskTransform):\n",
    "\n",
    "    data_only = True\n",
    "\n",
    "    def get_shared_parameters(self, item):\n",
    "        ...\n",
    "\n",
    "    @dispatch_by_type(np.array)\n",
    "    def __call__(self, image, params):\n",
    "        ...\n",
    "\n",
    "\n",
    "# Equivalently:\n",
    "class RandomColorJitter(AbstractDataOnlyTransform):\n",
    "    ..."
   ]
  },
  {
   "cell_type": "markdown",
   "metadata": {},
   "source": [
    "**Q:** What if I have a new type of label data I'd like the premade transforms to support? Do I have to edit the source code for each transform each time?\n",
    "\n",
    "**A:** You can achieve this by **subclassing** the transform:"
   ]
  },
  {
   "cell_type": "code",
   "execution_count": null,
   "metadata": {},
   "outputs": [],
   "source": [
    "class MyRandomAffine(RandomAffine):\n",
    "\n",
    "    @dispatch_by_type(MyLabelType)\n",
    "    def __call__(self, my_label, params):\n",
    "        ..."
   ]
  },
  {
   "cell_type": "markdown",
   "metadata": {},
   "source": [
    "**Q:** I want my transform to use the inputs to determine its parameters. For example, I want my `RandomCrop` transform to take into account the positions of the bounding boxes, so that all the boxes are visible after the transform. How can I do this?\n",
    "\n",
    "**A:** The `get_shared_parameters` method takes as its input the _raw, unprocessed_ input to the transform (meaning it could be a `MultiTask` object, a `Task` object, a `Label` object, or anything else). You can then use the input to calculate the parameters:"
   ]
  },
  {
   "cell_type": "code",
   "execution_count": null,
   "metadata": {},
   "outputs": [],
   "source": [
    "class BBoxSafeRandomCrop(RandomCrop):\n",
    "\n",
    "    def get_shared_parameters(self, item):\n",
    "        params = super().get_shared_parameters(item)\n",
    "\n",
    "        if (isinstance(item, MultiTask) and item.has_object_labels()) or \\\n",
    "            isinstance(item, ObjectDetectionTask) or \\\n",
    "            isinstance(item, ObjectDetectionLabel):\n",
    "            # Modify or recalculate the params\n",
    "            ...\n",
    "\n",
    "        return params\n",
    "            "
   ]
  }
 ],
 "metadata": {
  "kernelspec": {
   "display_name": "Python 3",
   "language": "python",
   "name": "python3"
  },
  "language_info": {
   "codemirror_mode": {
    "name": "ipython",
    "version": 3
   },
   "file_extension": ".py",
   "mimetype": "text/x-python",
   "name": "python",
   "nbconvert_exporter": "python",
   "pygments_lexer": "ipython3",
   "version": "3.8.0"
  },
  "orig_nbformat": 4
 },
 "nbformat": 4,
 "nbformat_minor": 2
}
